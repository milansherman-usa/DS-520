{
 "cells": [
  {
   "cell_type": "markdown",
   "metadata": {},
   "source": [
    "Milan Sherman\n",
    "DS 530\n",
    "Exercise 2-1 and 2-4"
   ]
  },
  {
   "cell_type": "code",
   "execution_count": 78,
   "metadata": {},
   "outputs": [],
   "source": [
    "from __future__ import print_function, division\n",
    "\n",
    "%matplotlib inline\n",
    "\n",
    "import numpy as np\n",
    "\n",
    "import nsfg\n",
    "import first"
   ]
  },
  {
   "cell_type": "markdown",
   "metadata": {},
   "source": [
    "Exercise 2-1\n",
    "\n",
    "Based on the results in this chapter, suppose you were asked to summarize what you learned about whether first babies arrive late. Which summary statistics would you use if you wanted to get a story on the evening news? Which ones would you use if you  wanted to reassure an anxious patient? Finally, imagine that you are Cecil Adams, author of The Straight Dope\n",
    "(http://straightdope.com), and your job is to answer the question, “Do first babies arrive late?” Write a paragraph that uses the results in this chapter to answer the question clearly, precisely, and honestly"
   ]
  },
  {
   "cell_type": "markdown",
   "metadata": {},
   "source": [
    "In addition to the histogram, means, and effect size calculated in the text, I wanted to look at the extreme values for each group."
   ]
  },
  {
   "cell_type": "code",
   "execution_count": 83,
   "metadata": {},
   "outputs": [],
   "source": [
    "firsts = live[live.birthord == 1]\n",
    "others = live[live.birthord != 1]\n",
    "\n",
    "first_hist = thinkstats2.Hist(firsts.prglngth, label='first')\n",
    "other_hist = thinkstats2.Hist(others.prglngth, label='other')\n"
   ]
  },
  {
   "cell_type": "code",
   "execution_count": 89,
   "metadata": {},
   "outputs": [
    {
     "name": "stdout",
     "output_type": "stream",
     "text": [
      "0 1\n",
      "17 1\n",
      "20 1\n",
      "21 1\n",
      "22 3\n",
      "23 1\n",
      "24 7\n",
      "25 1\n",
      "26 16\n",
      "27 1\n"
     ]
    }
   ],
   "source": [
    "for weeks, freq in first_hist.Smallest(10):\n",
    "    print(weeks, freq)"
   ]
  },
  {
   "cell_type": "code",
   "execution_count": 90,
   "metadata": {},
   "outputs": [
    {
     "name": "stdout",
     "output_type": "stream",
     "text": [
      "4 1\n",
      "9 1\n",
      "13 1\n",
      "17 1\n",
      "18 1\n",
      "19 1\n",
      "21 1\n",
      "22 4\n",
      "24 6\n",
      "25 2\n"
     ]
    }
   ],
   "source": [
    "for weeks, freq in other_hist.Smallest(10):\n",
    "    print(weeks, freq)"
   ]
  },
  {
   "cell_type": "code",
   "execution_count": 91,
   "metadata": {},
   "outputs": [
    {
     "name": "stdout",
     "output_type": "stream",
     "text": [
      "48 3\n",
      "47 1\n",
      "46 1\n",
      "45 6\n",
      "44 23\n",
      "43 87\n",
      "42 205\n",
      "41 360\n",
      "40 536\n",
      "39 2114\n"
     ]
    }
   ],
   "source": [
    "for weeks, freq in first_hist.Largest(10):\n",
    "    print (weeks, freq)"
   ]
  },
  {
   "cell_type": "code",
   "execution_count": 92,
   "metadata": {},
   "outputs": [
    {
     "name": "stdout",
     "output_type": "stream",
     "text": [
      "50 2\n",
      "48 4\n",
      "45 4\n",
      "44 23\n",
      "43 61\n",
      "42 123\n",
      "41 227\n",
      "40 580\n",
      "39 2579\n",
      "38 335\n"
     ]
    }
   ],
   "source": [
    "for weeks, freq in other_hist.Largest(10):\n",
    "    print(weeks, freq)"
   ]
  },
  {
   "cell_type": "markdown",
   "metadata": {},
   "source": [
    "If I wanted to get a story on the evening news, I would likely use the histogram and extreme values to make the case babies that are not firstborn are generally born later than first born babies.  In the histogram we see more \"not first\" babies born after 39 weeks, and twice as many babies born at 48 weeks or later.  For this story I would downplay the difference in the number of observations between the two datasets.\n",
    "\n",
    "If I wanted to reassure an expectant mother, I would note that out of over 9000 pregnancies, the difference between firstborn and other babies is on average only 13 hours, and that even accounting for the variability in these two groups, this difference is very small (small effect size).\n",
    "\n",
    "If I were Cecil Adams, I would conclude that first babies are not more likely to be born late than other babies, but that they are not very likely to be born earlier than other babies either, citing the means, the difference in means, and the effect size, and emphasizing that the differences in the histogram and extreme values betweent the two groups could be misleading due to the difference in the number of observations in the two datasets."
   ]
  },
  {
   "cell_type": "markdown",
   "metadata": {
    "collapsed": true
   },
   "source": [
    "## Exercises"
   ]
  },
  {
   "cell_type": "markdown",
   "metadata": {},
   "source": [
    "Using the variable `totalwgt_lb`, investigate whether first babies are lighter or heavier than others. \n",
    "\n",
    "Compute Cohen’s effect size to quantify the difference between the groups.  How does it compare to the difference in pregnancy length?"
   ]
  },
  {
   "cell_type": "markdown",
   "metadata": {},
   "source": [
    "Exercise 2-4"
   ]
  },
  {
   "cell_type": "markdown",
   "metadata": {},
   "source": [
    "First, I create two dataframes, one of first births and another with all the other birth orders"
   ]
  },
  {
   "cell_type": "code",
   "execution_count": 36,
   "metadata": {},
   "outputs": [],
   "source": [
    "firsts = live[live.birthord == 1]\n",
    "others = live[live.birthord != 1]\n",
    "\n",
    "first_hist = thinkstats2.Hist(firsts.totalwgt_lb, label='first')\n",
    "other_hist = thinkstats2.Hist(others.totalwgt_lb, label='other')"
   ]
  },
  {
   "cell_type": "code",
   "execution_count": 55,
   "metadata": {},
   "outputs": [
    {
     "name": "stdout",
     "output_type": "stream",
     "text": [
      "4413\n",
      "4735\n"
     ]
    }
   ],
   "source": [
    "print(len(firsts.index))\n",
    "print(len(others.index))"
   ]
  },
  {
   "cell_type": "markdown",
   "metadata": {},
   "source": [
    "While the others dataframe has more observations, it's less than 10% more.  This is important because comparing counts between these dataframes would be misleading if one dataframe had a lot more observations than the other."
   ]
  },
  {
   "cell_type": "markdown",
   "metadata": {},
   "source": [
    "Check the frequency of the various weight values in the firsts dataframe"
   ]
  },
  {
   "cell_type": "code",
   "execution_count": 41,
   "metadata": {},
   "outputs": [
    {
     "data": {
      "text/plain": [
       "0.1250     1\n",
       "0.3125     1\n",
       "0.4375     1\n",
       "0.6250     1\n",
       "0.9375     1\n",
       "          ..\n",
       "12.3750    2\n",
       "12.5000    1\n",
       "13.7500    1\n",
       "14.0000    1\n",
       "15.4375    1\n",
       "Name: totalwgt_lb, Length: 170, dtype: int64"
      ]
     },
     "execution_count": 41,
     "metadata": {},
     "output_type": "execute_result"
    }
   ],
   "source": [
    "firsts.totalwgt_lb.value_counts().sort_index()"
   ]
  },
  {
   "cell_type": "markdown",
   "metadata": {},
   "source": [
    "This is not super helpful since the accuracy of the birth weights tends to result in few weights that are exactly the same.  Also, we are only seeing the smallest and largest values with this view.  \n",
    "It might be more interesting and informative to look at the extreme values of this dataset (smallest and largest)"
   ]
  },
  {
   "cell_type": "code",
   "execution_count": 46,
   "metadata": {},
   "outputs": [
    {
     "name": "stdout",
     "output_type": "stream",
     "text": [
      "0.125 1\n",
      "0.3125 1\n",
      "0.4375 1\n",
      "0.625 1\n",
      "0.9375 1\n",
      "1.0 1\n",
      "1.0625 1\n",
      "1.125 1\n",
      "1.1875 1\n",
      "1.25 1\n",
      "1.3125 2\n",
      "1.375 3\n",
      "1.5 3\n",
      "1.5625 1\n",
      "1.625 5\n",
      "1.6875 1\n",
      "1.75 3\n",
      "1.8125 1\n",
      "1.875 1\n",
      "2.0 3\n",
      "2.0625 1\n",
      "2.125 3\n",
      "2.1875 4\n",
      "2.25 1\n",
      "2.3125 3\n",
      "2.375 2\n",
      "2.4375 2\n",
      "2.5 1\n",
      "2.6875 3\n",
      "2.75 1\n"
     ]
    }
   ],
   "source": [
    "for weight, freq in first_hist.Smallest(30):\n",
    "    print(weight, freq)"
   ]
  },
  {
   "cell_type": "markdown",
   "metadata": {},
   "source": [
    "Since our dataset is limited to live births and not necessarily to babies that survived after being born alive, I would think that only weights less than a pound might be bad data"
   ]
  },
  {
   "cell_type": "code",
   "execution_count": 48,
   "metadata": {},
   "outputs": [
    {
     "name": "stdout",
     "output_type": "stream",
     "text": [
      "15.4375 1\n",
      "14.0 1\n",
      "13.75 1\n",
      "12.5 1\n",
      "12.375 2\n",
      "12.1875 2\n",
      "12.0 3\n",
      "11.75 1\n",
      "11.6875 1\n",
      "11.625 1\n",
      "11.5625 2\n",
      "11.4375 1\n",
      "11.375 1\n",
      "11.1875 2\n",
      "11.0625 1\n",
      "11.0 4\n",
      "10.875 1\n",
      "10.8125 3\n",
      "10.75 1\n",
      "10.6875 3\n"
     ]
    }
   ],
   "source": [
    "for weight, freq in first_hist.Largest(20):\n",
    "    print (weight, freq)"
   ]
  },
  {
   "cell_type": "markdown",
   "metadata": {},
   "source": [
    "While a 15 lb. baby is quite large, it's not unheard of so I am assuming this data is accurate"
   ]
  },
  {
   "cell_type": "markdown",
   "metadata": {},
   "source": [
    "Below I look at the extreme values for the others dataframe"
   ]
  },
  {
   "cell_type": "code",
   "execution_count": 50,
   "metadata": {},
   "outputs": [
    {
     "name": "stdout",
     "output_type": "stream",
     "text": [
      "0.5625 1\n",
      "0.625 1\n",
      "1.0625 2\n",
      "1.125 1\n",
      "1.25 1\n",
      "1.3125 1\n",
      "1.375 3\n",
      "1.4375 1\n",
      "1.5 1\n",
      "1.5625 2\n",
      "1.75 1\n",
      "1.875 2\n",
      "2.0 1\n",
      "2.0625 3\n",
      "2.1875 3\n",
      "2.25 3\n",
      "2.3125 1\n",
      "2.375 1\n",
      "2.4375 1\n",
      "2.5 4\n",
      "2.5625 2\n",
      "2.6875 1\n",
      "2.75 1\n",
      "2.8125 3\n",
      "2.875 1\n",
      "2.9375 1\n",
      "3.0 12\n",
      "3.0625 3\n",
      "3.125 5\n",
      "3.25 5\n"
     ]
    }
   ],
   "source": [
    "for weight, freq in other_hist.Smallest(30):\n",
    "    print(weight, freq)"
   ]
  },
  {
   "cell_type": "code",
   "execution_count": 51,
   "metadata": {},
   "outputs": [
    {
     "name": "stdout",
     "output_type": "stream",
     "text": [
      "14.0 2\n",
      "13.5 1\n",
      "13.0 1\n",
      "12.0 2\n",
      "11.9375 1\n",
      "11.75 1\n",
      "11.5 1\n",
      "11.4375 1\n",
      "11.1875 1\n",
      "11.125 2\n",
      "11.0 5\n",
      "10.9375 1\n",
      "10.875 2\n",
      "10.8125 2\n",
      "10.75 2\n",
      "10.6875 5\n",
      "10.625 1\n",
      "10.5625 2\n",
      "10.5 6\n",
      "10.4375 2\n"
     ]
    }
   ],
   "source": [
    "for weight, freq in other_hist.Largest(20):\n",
    "    print(weight, freq)"
   ]
  },
  {
   "cell_type": "markdown",
   "metadata": {},
   "source": [
    "The extreme values for the others dataframe look comparable, but it is worth noting the heaviest baby was a firstborn.  However, there are also more babies that weighed less than a pound (although this could be bad data)"
   ]
  },
  {
   "cell_type": "markdown",
   "metadata": {},
   "source": [
    "Now we'll examine a histogram of the distribution of both dataframes side by side"
   ]
  },
  {
   "cell_type": "code",
   "execution_count": 57,
   "metadata": {},
   "outputs": [
    {
     "data": {
      "image/png": "[encoded data removed]",
      "text/plain": [
       "<Figure size 432x288 with 1 Axes>"
      ]
     },
     "metadata": {
      "needs_background": "light"
     },
     "output_type": "display_data"
    }
   ],
   "source": [
    "width = 0.05\n",
    "thinkplot.PrePlot(2)\n",
    "thinkplot.Hist(first_hist, align='right', width=width)\n",
    "thinkplot.Hist(other_hist, align='left', width=width)\n",
    "thinkplot.Config(xlabel='lbs', ylabel='Count', xlim=[0, 16])"
   ]
  },
  {
   "cell_type": "markdown",
   "metadata": {},
   "source": [
    "Due to the accuracy of the weights, this is not a very useful look.  Let's try rounding the weights to the nearest pound and generating the histogram again (I tried rounding to the nearest 0.1 of a pound, but it wasn't any easier to interpret)"
   ]
  },
  {
   "cell_type": "code",
   "execution_count": 68,
   "metadata": {},
   "outputs": [],
   "source": [
    "firsts.loc[:,'totalwgt_rd'] = round(firsts.totalwgt_lb, 0)\n",
    "others.loc[:,'totalwgt_rd'] = round(others.totalwgt_lb,0)\n",
    "\n",
    "\n",
    "first_hist = thinkstats2.Hist(firsts.totalwgt_rd, label='first')\n",
    "other_hist = thinkstats2.Hist(others.totalwgt_rd, label='other')"
   ]
  },
  {
   "cell_type": "code",
   "execution_count": 73,
   "metadata": {},
   "outputs": [
    {
     "data": {
      "image/png": "[encoded data removed]",
      "text/plain": [
       "<Figure size 432x288 with 1 Axes>"
      ]
     },
     "metadata": {
      "needs_background": "light"
     },
     "output_type": "display_data"
    }
   ],
   "source": [
    "width = 0.45\n",
    "thinkplot.PrePlot(2)\n",
    "thinkplot.Hist(first_hist, align='right', width=width)\n",
    "thinkplot.Hist(other_hist, align='left', width=width)\n",
    "thinkplot.Config(xlabel='lbs', ylabel='Count', xlim=[1, 15])"
   ]
  },
  {
   "cell_type": "markdown",
   "metadata": {},
   "source": [
    "this is a more informative view, and it appears that there are more 8, 9, and 10 lb. babies that are not firstborn, while the number of babies weighing 2 to 7 lbs, by pound, have as many or more firstborn babies.  The histogram suggests that firstborn babies typically weigh less than those that are not firstborn.  However, we need to recall that the others dataframe has a few hundred more observations and it's not clear how that is influencing the histogram."
   ]
  },
  {
   "cell_type": "code",
   "execution_count": 75,
   "metadata": {},
   "outputs": [
    {
     "data": {
      "text/plain": [
       "(7.201094430437772, 7.325855614973262)"
      ]
     },
     "execution_count": 75,
     "metadata": {},
     "output_type": "execute_result"
    }
   ],
   "source": [
    "firsts.totalwgt_lb.mean(), others.totalwgt_lb.mean()"
   ]
  },
  {
   "cell_type": "markdown",
   "metadata": {},
   "source": [
    "The mean is consistent with the histogram, showing that the average weight of firstborn babies is less than those not born first"
   ]
  },
  {
   "cell_type": "markdown",
   "metadata": {},
   "source": [
    "Next we look at the effect size of this difference using Cohen's d"
   ]
  },
  {
   "cell_type": "code",
   "execution_count": 76,
   "metadata": {},
   "outputs": [],
   "source": [
    "def CohenEffectSize(group1, group2):\n",
    "    \"\"\"Computes Cohen's effect size for two groups.\n",
    "    \n",
    "    group1: Series or DataFrame\n",
    "    group2: Series or DataFrame\n",
    "    \n",
    "    returns: float if the arguments are Series;\n",
    "             Series if the arguments are DataFrames\n",
    "    \"\"\"\n",
    "    diff = group1.mean() - group2.mean()\n",
    "\n",
    "    var1 = group1.var()\n",
    "    var2 = group2.var()\n",
    "    n1, n2 = len(group1), len(group2)\n",
    "\n",
    "    pooled_var = (n1 * var1 + n2 * var2) / (n1 + n2)\n",
    "    d = diff / np.sqrt(pooled_var)\n",
    "    return d"
   ]
  },
  {
   "cell_type": "code",
   "execution_count": 77,
   "metadata": {},
   "outputs": [
    {
     "data": {
      "text/plain": [
       "-0.088672927072602"
      ]
     },
     "execution_count": 77,
     "metadata": {},
     "output_type": "execute_result"
    }
   ],
   "source": [
    "CohenEffectSize(firsts.totalwgt_lb, others.totalwgt_lb)"
   ]
  },
  {
   "cell_type": "markdown",
   "metadata": {},
   "source": [
    "The effect is negative as we know that the mean of the firstborn babies is smaller, but this is also a small effect size.  The fact that the means are not very different and the effect size is small suggests that the probability of a firstborn baby weighing less than a baby who is not firstborn is greater than but close to 50%.  Another way to put it is that the birth order is not much more predictive of birth weight than a coin toss.\n",
    "\n",
    "The effect size for the weights based on birth order is slightly larger than that for the length of the pregnancy, but still quite small.  According to this article, an effect size of 0.2 is considered small, and anything less than that is considered negligible: https://www.simplypsychology.org/effect-size.html"
   ]
  }
 ],
 "metadata": {
  "kernelspec": {
   "display_name": "Python 3 (ipykernel)",
   "language": "python",
   "name": "python3"
  },
  "language_info": {
   "codemirror_mode": {
    "name": "ipython",
    "version": 3
   },
   "file_extension": ".py",
   "mimetype": "text/x-python",
   "name": "python",
   "nbconvert_exporter": "python",
   "pygments_lexer": "ipython3",
   "version": "3.9.7"
  }
 },
 "nbformat": 4,
 "nbformat_minor": 1
}
