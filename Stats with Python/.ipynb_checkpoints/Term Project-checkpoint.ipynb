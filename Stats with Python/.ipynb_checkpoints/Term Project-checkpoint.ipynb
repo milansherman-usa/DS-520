{
 "cells": [
  {
   "cell_type": "code",
   "execution_count": 1,
   "id": "47410e6b",
   "metadata": {},
   "outputs": [],
   "source": [
    "import pandas as pd\n",
    "\n",
    "bb = pd.read_csv (r'C:\\Users\\misherman\\DS-520\\Baseball Datasets\\mlbbatting1901-2021.csv')\n"
   ]
  },
  {
   "cell_type": "code",
   "execution_count": 2,
   "id": "818ab531",
   "metadata": {},
   "outputs": [
    {
     "name": "stdout",
     "output_type": "stream",
     "text": [
      "          ID        Player        Date   Tm  Opp    Rslt  PA  AB  R  H  ...  \\\n",
      "0  crossmo01   Monte Cross  1901-04-18  PHI  BRO  L 7-12   5   4  2  2  ...   \n",
      "1  dahlebi01   Bill Dahlen  1901-04-18  BRO  PHI  W 12-7   5   4  2  3  ...   \n",
      "2   dalyto01      Tom Daly  1901-04-18  BRO  PHI  W 12-7   5   5  1  2  ...   \n",
      "3  davisle01   Lefty Davis  1901-04-18  BRO  PHI  W 12-7   5   5  1  1  ...   \n",
      "4  delahed01  Ed Delahanty  1901-04-18  PHI  BRO  L 7-12   5   4  1  2  ...   \n",
      "\n",
      "   GDP  SB  CS  WPA  RE24  aLI  BOP  Pos Summary  DFS(DK)  DFS(FD)  \n",
      "0  NaN   0 NaN  NaN   NaN  NaN    8           SS      NaN      NaN  \n",
      "1  NaN   2 NaN  NaN   NaN  NaN    7           SS      NaN      NaN  \n",
      "2  NaN   0 NaN  NaN   NaN  NaN    6           2B      NaN      NaN  \n",
      "3  NaN   0 NaN  NaN   NaN  NaN    1           LF      NaN      NaN  \n",
      "4  NaN   0 NaN  NaN   NaN  NaN    3           1B      NaN      NaN  \n",
      "\n",
      "[5 rows x 31 columns]\n",
      "Index(['ID', 'Player', 'Date', 'Tm', 'Opp', 'Rslt', 'PA', 'AB', 'R', 'H', '2B',\n",
      "       '3B', 'HR', 'RBI', 'BB', 'IBB', 'SO', 'HBP', 'SH', 'SF', 'ROE', 'GDP',\n",
      "       'SB', 'CS', 'WPA', 'RE24', 'aLI', 'BOP', 'position', 'DFS(DK)',\n",
      "       'DFS(FD)'],\n",
      "      dtype='object')\n"
     ]
    }
   ],
   "source": [
    "print (bb.head())\n",
    "bb = bb.rename(columns={'Pos Summary': 'position'})\n",
    "print (bb.columns)"
   ]
  },
  {
   "cell_type": "code",
   "execution_count": 3,
   "id": "d8e7106b",
   "metadata": {},
   "outputs": [
    {
     "name": "stdout",
     "output_type": "stream",
     "text": [
      "(4285629, 31)\n"
     ]
    }
   ],
   "source": [
    "print (bb.shape)"
   ]
  },
  {
   "cell_type": "code",
   "execution_count": 4,
   "id": "80fed39a",
   "metadata": {},
   "outputs": [],
   "source": [
    "bb['1B'] = bb['H'] - (bb['2B'] + bb['3B'] + bb['HR'])"
   ]
  },
  {
   "cell_type": "code",
   "execution_count": 5,
   "id": "89e8f4f3",
   "metadata": {},
   "outputs": [
    {
     "data": {
      "text/plain": [
       "Index(['ID', 'Player', 'Date', 'Tm', 'Opp', 'Rslt', 'PA', 'AB', 'R', 'H', '2B',\n",
       "       '3B', 'HR', 'RBI', 'BB', 'IBB', 'SO', 'HBP', 'SH', 'SF', 'ROE', 'GDP',\n",
       "       'SB', 'CS', 'WPA', 'RE24', 'aLI', 'BOP', 'position', 'DFS(DK)',\n",
       "       'DFS(FD)', '1B'],\n",
       "      dtype='object')"
      ]
     },
     "execution_count": 5,
     "metadata": {},
     "output_type": "execute_result"
    }
   ],
   "source": [
    "bb.columns"
   ]
  },
  {
   "cell_type": "code",
   "execution_count": 6,
   "id": "1a199875",
   "metadata": {},
   "outputs": [],
   "source": [
    "def slug(df, player):\n",
    "    career = df[df.position == player]\n",
    "# execption handling for missing player\n",
    "    singles = career['H'] - (career['2B'] + career['3B'] + career['HR'])\n",
    "    single = sum(singles)\n",
    "    double = sum(career['2B'])\n",
    "    triple = sum(career['3B'])\n",
    "    HR = sum(career['HR'])\n",
    "    AB = sum(career['AB'])\n",
    "    slug = (single + 2*double + 3*triple + 4*HR)/AB\n",
    "    return slug, AB\n",
    "\n",
    "# include code for divide by 0"
   ]
  },
  {
   "cell_type": "code",
   "execution_count": 8,
   "id": "40e42a58",
   "metadata": {},
   "outputs": [],
   "source": [
    "positions = bb[(bb['position'] == '2B') | (bb['position'] == '1B')  | (bb['position'] == '3B')  | (bb['position'] == 'SS')  | (bb['position'] == 'LF')  | (bb['position'] == 'CF')  | (bb['position'] == 'RF')  | (bb['position'] == 'C')].groupby('position').agg(\n",
    "    H = pd.NamedAgg(column='H', aggfunc = sum),\n",
    "    AB = pd.NamedAgg(column='AB', aggfunc = sum),\n",
    "    singles = pd.NamedAgg(column='1B', aggfunc = sum),\n",
    "    doubles = pd.NamedAgg(column='2B', aggfunc = sum),\n",
    "    triples = pd.NamedAgg(column='3B', aggfunc = sum),\n",
    "    HR = pd.NamedAgg(column='HR', aggfunc = sum))"
   ]
  },
  {
   "cell_type": "code",
   "execution_count": 9,
   "id": "6f9e5201",
   "metadata": {},
   "outputs": [
    {
     "name": "stdout",
     "output_type": "stream",
     "text": [
      "               H       AB  singles  doubles  triples     HR\n",
      "position                                                   \n",
      "1B        413151  1500134   278195    75462    11585  47909\n",
      "2B        398873  1504067   295757    68185    13205  21726\n",
      "3B        393415  1482968   276803    70283    11333  34996\n",
      "C         355838  1414005   255206    62737     7615  30280\n",
      "CF        413498  1512672   294001    70345    16912  32240\n",
      "LF        410787  1492992   282581    72429    14855  40922\n",
      "RF        410047  1489167   279405    72998    14899  42745\n",
      "SS        382904  1481104   285869    64067    12962  20006\n"
     ]
    }
   ],
   "source": [
    "print(positions)"
   ]
  },
  {
   "cell_type": "code",
   "execution_count": 10,
   "id": "6d8c71d8",
   "metadata": {},
   "outputs": [
    {
     "name": "stdout",
     "output_type": "stream",
     "text": [
      "               H       AB  singles  doubles  triples     HR        BA  \\\n",
      "position                                                                \n",
      "1B        413151  1500134   278195    75462    11585  47909  0.275409   \n",
      "2B        398873  1504067   295757    68185    13205  21726  0.265196   \n",
      "3B        393415  1482968   276803    70283    11333  34996  0.265289   \n",
      "C         355838  1414005   255206    62737     7615  30280  0.251653   \n",
      "CF        413498  1512672   294001    70345    16912  32240  0.273356   \n",
      "LF        410787  1492992   282581    72429    14855  40922  0.275143   \n",
      "RF        410047  1489167   279405    72998    14899  42745  0.275353   \n",
      "SS        382904  1481104   285869    64067    12962  20006  0.258526   \n",
      "\n",
      "              slug       ISO  single_pct  double_pct  triple_pct    HR_pct  \n",
      "position                                                                    \n",
      "1B        0.436968  0.161558    0.185447    0.050304    0.007723  0.031936  \n",
      "2B        0.371424  0.106227    0.196638    0.045334    0.008780  0.014445  \n",
      "3B        0.398762  0.133474    0.186655    0.047393    0.007642  0.023599  \n",
      "C         0.371035  0.119382    0.180485    0.044368    0.005385  0.021414  \n",
      "CF        0.406160  0.132804    0.194359    0.046504    0.011180  0.021313  \n",
      "LF        0.425784  0.150640    0.189272    0.048513    0.009950  0.027409  \n",
      "RF        0.430494  0.155141    0.187625    0.049019    0.010005  0.028704  \n",
      "SS        0.359808  0.101282    0.193011    0.043256    0.008752  0.013507  \n"
     ]
    }
   ],
   "source": [
    "positions['BA'] = positions.H/positions.AB\n",
    "positions['slug'] = (positions.singles + 2*positions.doubles + 3*positions.triples + 4*positions.HR)/positions.AB\n",
    "positions['ISO'] = positions.slug - positions.BA\n",
    "positions['single_pct'] = positions.singles/positions.AB\n",
    "positions['double_pct'] = positions.doubles/positions.AB\n",
    "positions['triple_pct'] = positions.triples/positions.AB\n",
    "positions['HR_pct'] = positions.HR/positions.AB\n",
    "print(positions)"
   ]
  },
  {
   "cell_type": "code",
   "execution_count": null,
   "id": "078b893b",
   "metadata": {},
   "outputs": [],
   "source": []
  }
 ],
 "metadata": {
  "kernelspec": {
   "display_name": "Python 3 (ipykernel)",
   "language": "python",
   "name": "python3"
  },
  "language_info": {
   "codemirror_mode": {
    "name": "ipython",
    "version": 3
   },
   "file_extension": ".py",
   "mimetype": "text/x-python",
   "name": "python",
   "nbconvert_exporter": "python",
   "pygments_lexer": "ipython3",
   "version": "3.9.7"
  }
 },
 "nbformat": 4,
 "nbformat_minor": 5
}
